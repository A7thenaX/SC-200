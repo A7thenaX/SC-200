{
 "cells": [
  {
   "cell_type": "markdown",
   "id": "1727e7b2",
   "metadata": {},
   "source": [
    "# Notebook test: threat hunting"
   ]
  },
  {
   "cell_type": "markdown",
   "id": "33b0cce5",
   "metadata": {},
   "source": [
    "## Initializing notebook"
   ]
  },
  {
   "cell_type": "code",
   "execution_count": 2,
   "id": "263898dc",
   "metadata": {},
   "outputs": [
    {
     "data": {
      "text/html": [
       "Checking upgrade to latest msticpy version"
      ],
      "text/plain": [
       "<IPython.core.display.HTML object>"
      ]
     },
     "metadata": {},
     "output_type": "display_data"
    },
    {
     "name": "stderr",
     "output_type": "stream",
     "text": [
      "ERROR: Exception:\n",
      "Traceback (most recent call last):\n",
      "  File \"c:\\Users\\0034294\\AppData\\Local\\Programs\\Python\\Python313\\Lib\\site-packages\\pip\\_vendor\\packaging\\requirements.py\", line 36, in __init__\n",
      "    parsed = _parse_requirement(requirement_string)\n",
      "  File \"c:\\Users\\0034294\\AppData\\Local\\Programs\\Python\\Python313\\Lib\\site-packages\\pip\\_vendor\\packaging\\_parser.py\", line 62, in parse_requirement\n",
      "    return _parse_requirement(Tokenizer(source, rules=DEFAULT_RULES))\n",
      "  File \"c:\\Users\\0034294\\AppData\\Local\\Programs\\Python\\Python313\\Lib\\site-packages\\pip\\_vendor\\packaging\\_parser.py\", line 77, in _parse_requirement\n",
      "    extras = _parse_extras(tokenizer)\n",
      "  File \"c:\\Users\\0034294\\AppData\\Local\\Programs\\Python\\Python313\\Lib\\site-packages\\pip\\_vendor\\packaging\\_parser.py\", line 164, in _parse_extras\n",
      "    with tokenizer.enclosing_tokens(\n",
      "         ~~~~~~~~~~~~~~~~~~~~~~~~~~^\n",
      "        \"LEFT_BRACKET\",\n",
      "        ^^^^^^^^^^^^^^^\n",
      "        \"RIGHT_BRACKET\",\n",
      "        ^^^^^^^^^^^^^^^^\n",
      "        around=\"extras\",\n",
      "        ^^^^^^^^^^^^^^^^\n",
      "    ):\n",
      "    ^\n",
      "  File \"c:\\Users\\0034294\\AppData\\Local\\Programs\\Python\\Python313\\Lib\\contextlib.py\", line 148, in __exit__\n",
      "    next(self.gen)\n",
      "    ~~~~^^^^^^^^^^\n",
      "  File \"c:\\Users\\0034294\\AppData\\Local\\Programs\\Python\\Python313\\Lib\\site-packages\\pip\\_vendor\\packaging\\_tokenizer.py\", line 190, in enclosing_tokens\n",
      "    self.raise_syntax_error(\n",
      "    ~~~~~~~~~~~~~~~~~~~~~~~^\n",
      "        f\"Expected matching {close_token} for {open_token}, after {around}\",\n",
      "        ^^^^^^^^^^^^^^^^^^^^^^^^^^^^^^^^^^^^^^^^^^^^^^^^^^^^^^^^^^^^^^^^^^^^\n",
      "        span_start=open_position,\n",
      "        ^^^^^^^^^^^^^^^^^^^^^^^^^\n",
      "    )\n",
      "    ^\n",
      "  File \"c:\\Users\\0034294\\AppData\\Local\\Programs\\Python\\Python313\\Lib\\site-packages\\pip\\_vendor\\packaging\\_tokenizer.py\", line 168, in raise_syntax_error\n",
      "    raise ParserSyntaxError(\n",
      "    ...<3 lines>...\n",
      "    )\n",
      "pip._vendor.packaging._tokenizer.ParserSyntaxError: Expected matching RIGHT_BRACKET for LEFT_BRACKET, after extras\n",
      "    placeholder[sentinel\\]\n",
      "               ~~~~~~~~~^\n",
      "\n",
      "The above exception was the direct cause of the following exception:\n",
      "\n",
      "Traceback (most recent call last):\n",
      "  File \"c:\\Users\\0034294\\AppData\\Local\\Programs\\Python\\Python313\\Lib\\site-packages\\pip\\_internal\\cli\\base_command.py\", line 107, in _run_wrapper\n",
      "    status = _inner_run()\n",
      "  File \"c:\\Users\\0034294\\AppData\\Local\\Programs\\Python\\Python313\\Lib\\site-packages\\pip\\_internal\\cli\\base_command.py\", line 98, in _inner_run\n",
      "    return self.run(options, args)\n",
      "           ~~~~~~~~^^^^^^^^^^^^^^^\n",
      "  File \"c:\\Users\\0034294\\AppData\\Local\\Programs\\Python\\Python313\\Lib\\site-packages\\pip\\_internal\\cli\\req_command.py\", line 85, in wrapper\n",
      "    return func(self, options, args)\n",
      "  File \"c:\\Users\\0034294\\AppData\\Local\\Programs\\Python\\Python313\\Lib\\site-packages\\pip\\_internal\\commands\\install.py\", line 354, in run\n",
      "    reqs = self.get_requirements(args, options, finder, session)\n",
      "  File \"c:\\Users\\0034294\\AppData\\Local\\Programs\\Python\\Python313\\Lib\\site-packages\\pip\\_internal\\cli\\req_command.py\", line 264, in get_requirements\n",
      "    req_to_add = install_req_from_line(\n",
      "        req,\n",
      "    ...<3 lines>...\n",
      "        config_settings=getattr(options, \"config_settings\", None),\n",
      "    )\n",
      "  File \"c:\\Users\\0034294\\AppData\\Local\\Programs\\Python\\Python313\\Lib\\site-packages\\pip\\_internal\\req\\constructors.py\", line 427, in install_req_from_line\n",
      "    parts = parse_req_from_line(name, line_source)\n",
      "  File \"c:\\Users\\0034294\\AppData\\Local\\Programs\\Python\\Python313\\Lib\\site-packages\\pip\\_internal\\req\\constructors.py\", line 377, in parse_req_from_line\n",
      "    extras = convert_extras(extras_as_string)\n",
      "  File \"c:\\Users\\0034294\\AppData\\Local\\Programs\\Python\\Python313\\Lib\\site-packages\\pip\\_internal\\req\\constructors.py\", line 61, in convert_extras\n",
      "    return get_requirement(\"placeholder\" + extras.lower()).extras\n",
      "           ~~~~~~~~~~~~~~~^^^^^^^^^^^^^^^^^^^^^^^^^^^^^^^^\n",
      "  File \"c:\\Users\\0034294\\AppData\\Local\\Programs\\Python\\Python313\\Lib\\site-packages\\pip\\_internal\\utils\\packaging.py\", line 44, in get_requirement\n",
      "    return Requirement(req_string)\n",
      "  File \"c:\\Users\\0034294\\AppData\\Local\\Programs\\Python\\Python313\\Lib\\site-packages\\pip\\_vendor\\packaging\\requirements.py\", line 38, in __init__\n",
      "    raise InvalidRequirement(str(e)) from e\n",
      "pip._vendor.packaging.requirements.InvalidRequirement: Expected matching RIGHT_BRACKET for LEFT_BRACKET, after extras\n",
      "    placeholder[sentinel\\]\n",
      "               ~~~~~~~~~^\n",
      "2025-10-31 15:13:37,602: WARNING - Could not find msticpyconfig.yaml in standard search. (nbinit#768)\n"
     ]
    },
    {
     "name": "stdout",
     "output_type": "stream",
     "text": [
      "Note: you may need to restart the kernel to use updated packages.\n"
     ]
    },
    {
     "data": {
      "text/html": [
       "<p style=''><font color='orange'><h3>Notebook setup completed with some warnings.</h3></p>"
      ],
      "text/plain": [
       "<IPython.core.display.HTML object>"
      ]
     },
     "metadata": {},
     "output_type": "display_data"
    },
    {
     "data": {
      "text/html": [
       "<p style=''>One or more configuration items were missing or set incorrectly.</p>"
      ],
      "text/plain": [
       "<IPython.core.display.HTML object>"
      ]
     },
     "metadata": {},
     "output_type": "display_data"
    },
    {
     "data": {
      "text/html": [
       "<p style=''>Please run the <i>Getting Started Guide for Azure Sentinel ML Notebooks</i> notebook. and the <a href='https://msticpy.readthedocs.io/en/latest/getting_started/msticpyconfig.html'>msticpy configuration guide</a>.</p>"
      ],
      "text/plain": [
       "<IPython.core.display.HTML object>"
      ]
     },
     "metadata": {},
     "output_type": "display_data"
    },
    {
     "data": {
      "text/html": [
       "<p style=''>This notebook may still run but with reduced functionality.</p>"
      ],
      "text/plain": [
       "<IPython.core.display.HTML object>"
      ]
     },
     "metadata": {},
     "output_type": "display_data"
    }
   ],
   "source": [
    "# import some modules needed in this cell\n",
    "from IPython.display import display, HTML\n",
    "\n",
    "display(HTML(\"Checking upgrade to latest msticpy version\"))\n",
    "%pip install --upgrade --quiet msticpy\\[sentinel\\]\n",
    "\n",
    "\n",
    "REQ_PYTHON_VER = \"3.10\"\n",
    "REQ_MSTICPY_VER = \"2.12.0\"\n",
    "\n",
    "# initialize msticpy\n",
    "import msticpy as mp\n",
    "mp.init_notebook(namespace=globals());"
   ]
  }
 ],
 "metadata": {
  "kernelspec": {
   "display_name": "Python 3",
   "language": "python",
   "name": "python3"
  },
  "language_info": {
   "codemirror_mode": {
    "name": "ipython",
    "version": 3
   },
   "file_extension": ".py",
   "mimetype": "text/x-python",
   "name": "python",
   "nbconvert_exporter": "python",
   "pygments_lexer": "ipython3",
   "version": "3.13.9"
  }
 },
 "nbformat": 4,
 "nbformat_minor": 5
}
